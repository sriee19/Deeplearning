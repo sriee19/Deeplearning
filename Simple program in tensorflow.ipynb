{
 "cells": [
  {
   "cell_type": "markdown",
   "id": "f01c7c34",
   "metadata": {},
   "source": [
    "This program generates some random data and trains a simple linear regression model in TensorFlow to predict the output y given the input x. The program uses the mean squared error loss and stochastic gradient descent optimizer for training. After training, the program visualizes the training loss over time and makes predictions on some new data to visualize the model's performance."
   ]
  },
  {
   "cell_type": "code",
   "execution_count": 1,
   "id": "a0325bad",
   "metadata": {},
   "outputs": [],
   "source": [
    "import tensorflow as tf\n",
    "import numpy as np\n",
    "import matplotlib.pyplot as plt"
   ]
  },
  {
   "cell_type": "code",
   "execution_count": 2,
   "id": "62877514",
   "metadata": {},
   "outputs": [],
   "source": [
    "#Generate some random data"
   ]
  },
  {
   "cell_type": "code",
   "execution_count": 3,
   "id": "c25b876a",
   "metadata": {},
   "outputs": [],
   "source": [
    "num_samples=100\n",
    "x=np.random.randn(num_samples)\n",
    "y=3*x+2+np.random.randn(num_samples)*0.1"
   ]
  },
  {
   "cell_type": "code",
   "execution_count": 4,
   "id": "f0c9ea2f",
   "metadata": {},
   "outputs": [],
   "source": [
    "#split the data into training and testing sets\n",
    "train_x, test_x =x[:80],x[80:]\n",
    "train_y, test_y =y[:80],y[80:]"
   ]
  },
  {
   "cell_type": "code",
   "execution_count": 5,
   "id": "d2bae8fd",
   "metadata": {},
   "outputs": [],
   "source": [
    "#create a linear model"
   ]
  },
  {
   "cell_type": "code",
   "execution_count": 6,
   "id": "f956945b",
   "metadata": {},
   "outputs": [],
   "source": [
    "model = tf.keras.Sequential([\n",
    "    tf.keras.layers.Dense(1,input_shape=(1,))\n",
    "])"
   ]
  },
  {
   "cell_type": "code",
   "execution_count": 7,
   "id": "ccef8541",
   "metadata": {},
   "outputs": [],
   "source": [
    "#compile the model"
   ]
  },
  {
   "cell_type": "code",
   "execution_count": 8,
   "id": "e1937f66",
   "metadata": {},
   "outputs": [],
   "source": [
    "model.compile(optimizer=tf.optimizers.SGD(learning_rate=0.1)\n",
    "              ,loss='mse')"
   ]
  },
  {
   "cell_type": "code",
   "execution_count": 9,
   "id": "db458102",
   "metadata": {},
   "outputs": [],
   "source": [
    "#train the model"
   ]
  },
  {
   "cell_type": "code",
   "execution_count": 10,
   "id": "cac5c7d8",
   "metadata": {},
   "outputs": [
    {
     "name": "stdout",
     "output_type": "stream",
     "text": [
      "Epoch 1/10\n",
      "3/3 [==============================] - 1s 134ms/step - loss: 13.8908 - val_loss: 2.6001\n",
      "Epoch 2/10\n",
      "3/3 [==============================] - 0s 29ms/step - loss: 2.1945 - val_loss: 0.4243\n",
      "Epoch 3/10\n",
      "3/3 [==============================] - 0s 30ms/step - loss: 0.3742 - val_loss: 0.0753\n",
      "Epoch 4/10\n",
      "3/3 [==============================] - 0s 29ms/step - loss: 0.0759 - val_loss: 0.0179\n",
      "Epoch 5/10\n",
      "3/3 [==============================] - 0s 27ms/step - loss: 0.0233 - val_loss: 0.0080\n",
      "Epoch 6/10\n",
      "3/3 [==============================] - 0s 30ms/step - loss: 0.0133 - val_loss: 0.0066\n",
      "Epoch 7/10\n",
      "3/3 [==============================] - 0s 38ms/step - loss: 0.0114 - val_loss: 0.0066\n",
      "Epoch 8/10\n",
      "3/3 [==============================] - 0s 27ms/step - loss: 0.0111 - val_loss: 0.0067\n",
      "Epoch 9/10\n",
      "3/3 [==============================] - 0s 32ms/step - loss: 0.0109 - val_loss: 0.0068\n",
      "Epoch 10/10\n",
      "3/3 [==============================] - 0s 36ms/step - loss: 0.0108 - val_loss: 0.0070\n"
     ]
    }
   ],
   "source": [
    "history=model.fit(train_x, train_y, epochs=10, validation_data=(test_x,test_y))"
   ]
  },
  {
   "cell_type": "code",
   "execution_count": 11,
   "id": "b88d65af",
   "metadata": {},
   "outputs": [],
   "source": [
    "#plot the validation and training"
   ]
  },
  {
   "cell_type": "code",
   "execution_count": 12,
   "id": "d34c39a7",
   "metadata": {},
   "outputs": [
    {
     "data": {
      "image/png": "[encoded data removed]",
      "text/plain": [
       "<Figure size 432x288 with 1 Axes>"
      ]
     },
     "metadata": {
      "needs_background": "light"
     },
     "output_type": "display_data"
    }
   ],
   "source": [
    "plt.plot(history.history['loss'],label='Training loss')\n",
    "plt.plot(history.history['val_loss'])\n",
    "plt.show()"
   ]
  },
  {
   "cell_type": "code",
   "execution_count": 13,
   "id": "2d8a39c1",
   "metadata": {},
   "outputs": [],
   "source": [
    "#evaluate the model on new data"
   ]
  },
  {
   "cell_type": "code",
   "execution_count": 14,
   "id": "6a20e9fe",
   "metadata": {},
   "outputs": [],
   "source": [
    "x_test = np.array([0.1,0.2,0.3,0.4,0.5])\n",
    "y_pred=model.predict(x_test)"
   ]
  },
  {
   "cell_type": "code",
   "execution_count": 17,
   "id": "74974116",
   "metadata": {},
   "outputs": [
    {
     "name": "stderr",
     "output_type": "stream",
     "text": [
      "No artists with labels found to put in legend.  Note that artists whose label start with an underscore are ignored when legend() is called with no argument.\n"
     ]
    },
    {
     "data": {
      "image/png": "[encoded data removed]",
      "text/plain": [
       "<Figure size 432x288 with 1 Axes>"
      ]
     },
     "metadata": {
      "needs_background": "light"
     },
     "output_type": "display_data"
    }
   ],
   "source": [
    "plt.scatter(x,y)\n",
    "plt.plot(x_test,y_pred , color='red')\n",
    "plt.legend()\n",
    "plt.show()"
   ]
  },
  {
   "cell_type": "code",
   "execution_count": null,
   "id": "0c828d3e",
   "metadata": {},
   "outputs": [],
   "source": []
  }
 ],
 "metadata": {
  "kernelspec": {
   "display_name": "Python 3 (ipykernel)",
   "language": "python",
   "name": "python3"
  },
  "language_info": {
   "codemirror_mode": {
    "name": "ipython",
    "version": 3
   },
   "file_extension": ".py",
   "mimetype": "text/x-python",
   "name": "python",
   "nbconvert_exporter": "python",
   "pygments_lexer": "ipython3",
   "version": "3.10.7"
  }
 },
 "nbformat": 4,
 "nbformat_minor": 5
}
