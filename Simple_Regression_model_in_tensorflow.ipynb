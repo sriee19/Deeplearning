{
 "cells": [
  {
   "cell_type": "code",
   "execution_count": 1,
   "id": "2a3c4b68",
   "metadata": {},
   "outputs": [],
   "source": [
    "import tensorflow as tf\n",
    "import numpy as np\n",
    "import matplotlib.pyplot as plt"
   ]
  },
  {
   "cell_type": "markdown",
   "id": "da872987",
   "metadata": {},
   "source": [
    "#Generate some random data"
   ]
  },
  {
   "cell_type": "code",
   "execution_count": 2,
   "id": "6680407e",
   "metadata": {},
   "outputs": [],
   "source": [
    "num_samples = 100\n",
    "x = np.random.rand(num_samples)\n",
    "y = 3*x+2+np.random.randn(num_samples)*0.1"
   ]
  },
  {
   "cell_type": "code",
   "execution_count": 3,
   "id": "823b956e",
   "metadata": {},
   "outputs": [],
   "source": [
    "#create a linear model"
   ]
  },
  {
   "cell_type": "code",
   "execution_count": 4,
   "id": "a455ea92",
   "metadata": {},
   "outputs": [],
   "source": [
    "model=tf.keras.Sequential([\n",
    "    tf.keras.layers.Dense(1,input_shape=(1,))\n",
    "])"
   ]
  },
  {
   "cell_type": "code",
   "execution_count": 5,
   "id": "8824fccb",
   "metadata": {},
   "outputs": [],
   "source": [
    "#Compile the model"
   ]
  },
  {
   "cell_type": "code",
   "execution_count": 7,
   "id": "7ae74434",
   "metadata": {},
   "outputs": [],
   "source": [
    "model.compile(optimizer=tf.optimizers.SGD(learning_rate=0.1),loss='mse')"
   ]
  },
  {
   "cell_type": "code",
   "execution_count": 8,
   "id": "a05ad9f8",
   "metadata": {},
   "outputs": [],
   "source": [
    "#Train the model"
   ]
  },
  {
   "cell_type": "code",
   "execution_count": 10,
   "id": "62842fa5",
   "metadata": {},
   "outputs": [
    {
     "name": "stdout",
     "output_type": "stream",
     "text": [
      "Epoch 1/10\n",
      "4/4 [==============================] - 1s 3ms/step - loss: 9.6916\n",
      "Epoch 2/10\n",
      "4/4 [==============================] - 0s 3ms/step - loss: 1.0712\n",
      "Epoch 3/10\n",
      "4/4 [==============================] - 0s 4ms/step - loss: 0.3538\n",
      "Epoch 4/10\n",
      "4/4 [==============================] - 0s 5ms/step - loss: 0.2777\n",
      "Epoch 5/10\n",
      "4/4 [==============================] - 0s 5ms/step - loss: 0.2315\n",
      "Epoch 6/10\n",
      "4/4 [==============================] - 0s 3ms/step - loss: 0.2177\n",
      "Epoch 7/10\n",
      "4/4 [==============================] - 0s 5ms/step - loss: 0.1928\n",
      "Epoch 8/10\n",
      "4/4 [==============================] - 0s 4ms/step - loss: 0.1741\n",
      "Epoch 9/10\n",
      "4/4 [==============================] - 0s 3ms/step - loss: 0.1615\n",
      "Epoch 10/10\n",
      "4/4 [==============================] - 0s 3ms/step - loss: 0.1481\n"
     ]
    }
   ],
   "source": [
    "history = model.fit(x,y,epochs=10)\n"
   ]
  },
  {
   "cell_type": "code",
   "execution_count": 11,
   "id": "fcebef8c",
   "metadata": {},
   "outputs": [],
   "source": [
    "#Plot the training history"
   ]
  },
  {
   "cell_type": "code",
   "execution_count": 12,
   "id": "4549cc15",
   "metadata": {},
   "outputs": [
    {
     "data": {
      "image/png": "[encoded data removed]",
      "text/plain": [
       "<Figure size 432x288 with 1 Axes>"
      ]
     },
     "metadata": {
      "needs_background": "light"
     },
     "output_type": "display_data"
    }
   ],
   "source": [
    "plt.plot(history.history['loss'])\n",
    "plt.show()"
   ]
  },
  {
   "cell_type": "code",
   "execution_count": 13,
   "id": "7c7257b1",
   "metadata": {},
   "outputs": [],
   "source": [
    "#evaluate the model on new data"
   ]
  },
  {
   "cell_type": "code",
   "execution_count": 14,
   "id": "eb652034",
   "metadata": {},
   "outputs": [],
   "source": [
    "x_test=np.array([0.1,0.2,0.3,0.4,0.5])\n",
    "y_pred=model.predict(x_test)"
   ]
  },
  {
   "cell_type": "code",
   "execution_count": 15,
   "id": "3ec9172b",
   "metadata": {},
   "outputs": [],
   "source": [
    "#Plot the predictions"
   ]
  },
  {
   "cell_type": "code",
   "execution_count": 16,
   "id": "367a7aec",
   "metadata": {},
   "outputs": [
    {
     "data": {
      "image/png": "[encoded data removed]",
      "text/plain": [
       "<Figure size 432x288 with 1 Axes>"
      ]
     },
     "metadata": {
      "needs_background": "light"
     },
     "output_type": "display_data"
    }
   ],
   "source": [
    "plt.scatter(x,y,label='Data')\n",
    "plt.plot(x_test,y_pred)\n",
    "plt.legend()\n",
    "plt.show()"
   ]
  },
  {
   "cell_type": "code",
   "execution_count": null,
   "id": "1644ce0f",
   "metadata": {},
   "outputs": [],
   "source": []
  }
 ],
 "metadata": {
  "kernelspec": {
   "display_name": "Python 3 (ipykernel)",
   "language": "python",
   "name": "python3"
  },
  "language_info": {
   "codemirror_mode": {
    "name": "ipython",
    "version": 3
   },
   "file_extension": ".py",
   "mimetype": "text/x-python",
   "name": "python",
   "nbconvert_exporter": "python",
   "pygments_lexer": "ipython3",
   "version": "3.10.7"
  }
 },
 "nbformat": 4,
 "nbformat_minor": 5
}
