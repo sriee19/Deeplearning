{
 "cells": [
  {
   "cell_type": "code",
   "execution_count": 1,
   "id": "edc50b5e",
   "metadata": {},
   "outputs": [],
   "source": [
    "import numpy as np\n",
    "import tensorflow as tf"
   ]
  },
  {
   "cell_type": "code",
   "execution_count": 2,
   "id": "8732ce08",
   "metadata": {},
   "outputs": [],
   "source": [
    "#Generate some random data"
   ]
  },
  {
   "cell_type": "code",
   "execution_count": 3,
   "id": "99bf98df",
   "metadata": {},
   "outputs": [],
   "source": [
    "num_samples=100\n",
    "x=np.random.randn(num_samples,2)\n",
    "y=(x[:,0]+x[:,1]>0).astype(int)"
   ]
  },
  {
   "cell_type": "code",
   "execution_count": 4,
   "id": "f4925f18",
   "metadata": {},
   "outputs": [],
   "source": [
    "#Create a perceptron model"
   ]
  },
  {
   "cell_type": "code",
   "execution_count": 5,
   "id": "ffc0b87f",
   "metadata": {},
   "outputs": [],
   "source": [
    "model=tf.keras.Sequential([\n",
    "    tf.keras.layers.Dense(1,input_shape=(2,),activation='sigmoid')\n",
    "])"
   ]
  },
  {
   "cell_type": "code",
   "execution_count": 6,
   "id": "aaf4cd3e",
   "metadata": {},
   "outputs": [],
   "source": [
    "#compile the model"
   ]
  },
  {
   "cell_type": "code",
   "execution_count": 7,
   "id": "000a60a7",
   "metadata": {},
   "outputs": [],
   "source": [
    "model.compile(optimizer=tf.optimizers.SGD(learning_rate=0.1),loss='binary_crossentropy',metrics=['accuracy'])"
   ]
  },
  {
   "cell_type": "code",
   "execution_count": 8,
   "id": "dba584fb",
   "metadata": {},
   "outputs": [],
   "source": [
    "#Train the model"
   ]
  },
  {
   "cell_type": "code",
   "execution_count": 9,
   "id": "3d63ff30",
   "metadata": {},
   "outputs": [
    {
     "name": "stdout",
     "output_type": "stream",
     "text": [
      "Epoch 1/10\n",
      "4/4 [==============================] - 1s 4ms/step - loss: 0.5326 - accuracy: 0.7300\n",
      "Epoch 2/10\n",
      "4/4 [==============================] - 0s 5ms/step - loss: 0.4991 - accuracy: 0.7600\n",
      "Epoch 3/10\n",
      "4/4 [==============================] - 0s 5ms/step - loss: 0.4728 - accuracy: 0.8000\n",
      "Epoch 4/10\n",
      "4/4 [==============================] - 0s 4ms/step - loss: 0.4523 - accuracy: 0.8300\n",
      "Epoch 5/10\n",
      "4/4 [==============================] - 0s 5ms/step - loss: 0.4346 - accuracy: 0.8700\n",
      "Epoch 6/10\n",
      "4/4 [==============================] - 0s 4ms/step - loss: 0.4183 - accuracy: 0.8800\n",
      "Epoch 7/10\n",
      "4/4 [==============================] - 0s 3ms/step - loss: 0.4035 - accuracy: 0.8800\n",
      "Epoch 8/10\n",
      "4/4 [==============================] - 0s 4ms/step - loss: 0.3893 - accuracy: 0.9100\n",
      "Epoch 9/10\n",
      "4/4 [==============================] - 0s 5ms/step - loss: 0.3760 - accuracy: 0.9100\n",
      "Epoch 10/10\n",
      "4/4 [==============================] - 0s 5ms/step - loss: 0.3654 - accuracy: 0.9200\n"
     ]
    },
    {
     "data": {
      "text/plain": [
       "<keras.callbacks.History at 0x25a516790f0>"
      ]
     },
     "execution_count": 9,
     "metadata": {},
     "output_type": "execute_result"
    }
   ],
   "source": [
    "model.fit(x,y,epochs=10)"
   ]
  },
  {
   "cell_type": "code",
   "execution_count": 10,
   "id": "1c2f5c9d",
   "metadata": {},
   "outputs": [],
   "source": [
    "#Evaluate the model on new data"
   ]
  },
  {
   "cell_type": "code",
   "execution_count": 12,
   "id": "b9a32e6f",
   "metadata": {},
   "outputs": [],
   "source": [
    "x_test=np.array([[0.1,0.2],[-0.1,-0.2],[1,-1]])\n",
    "y_pred=model.predict(x_test)"
   ]
  },
  {
   "cell_type": "code",
   "execution_count": 13,
   "id": "7a68157a",
   "metadata": {},
   "outputs": [],
   "source": [
    "#Print the predictions"
   ]
  },
  {
   "cell_type": "code",
   "execution_count": 15,
   "id": "4a2f346d",
   "metadata": {},
   "outputs": [
    {
     "name": "stdout",
     "output_type": "stream",
     "text": [
      "Predictions\n",
      "Input:[0.1 0.2],ouput: [0.59530306]\n",
      "Input:[-0.1 -0.2],ouput: [0.41894835]\n",
      "Input:[ 1. -1.],ouput: [0.32963675]\n"
     ]
    }
   ],
   "source": [
    "print('Predictions')\n",
    "for i in range(len(x_test)):\n",
    "    print(f'Input:{x_test[i]},ouput: {y_pred[i]}')"
   ]
  },
  {
   "cell_type": "code",
   "execution_count": null,
   "id": "fa6f9908",
   "metadata": {},
   "outputs": [],
   "source": []
  }
 ],
 "metadata": {
  "kernelspec": {
   "display_name": "Python 3 (ipykernel)",
   "language": "python",
   "name": "python3"
  },
  "language_info": {
   "codemirror_mode": {
    "name": "ipython",
    "version": 3
   },
   "file_extension": ".py",
   "mimetype": "text/x-python",
   "name": "python",
   "nbconvert_exporter": "python",
   "pygments_lexer": "ipython3",
   "version": "3.10.7"
  }
 },
 "nbformat": 4,
 "nbformat_minor": 5
}
